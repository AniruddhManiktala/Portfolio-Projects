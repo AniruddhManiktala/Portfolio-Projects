{
 "cells": [
  {
   "cell_type": "markdown",
   "id": "2c448a89-afab-47d2-b8b5-9620f995890b",
   "metadata": {
    "collapsed": false
   },
   "source": [
    "# Assignment 2: Instructions\n",
    "\n",
    "In this assignment, you will take on a prediction competition for Airbnb bookings. Here, as opposed to predicting prices as we have been doing so far, you will use a variety of information provided to you to __predict the number of days a given listing will be booked in the next 30 days__. \n",
    "\n",
    "You have been provided with real listings data from Los Angeles, but you only have the actual realized bookings for a small subset of the listings, which you can use as your training data. (The column `availability_30` represents current bookings, but due to cancellations and future bookings, it's only a very noisy proxy to actual bookings). You can find the data dictionary [here](https://docs.google.com/spreadsheets/d/1iWCNJcSutYqpULSQHlNyGInUvHg2BoUGoNRIGa6Szc4/edit?gid=1322284596#gid=1322284596)\n",
    "\n",
    "This assignment will be graded as a competition. We have a test set that only the grader has access to. In order to do well in this task, you will have to use everything you have learned in the class so far, including feature engineering and hyperparameter search via cross-validation.\n",
    "\n",
    "## Write Up (8 pts)\n",
    "    \n",
    "You will need to turn in your code along with a short write-up, which you can include in your notebook. You will need to address the following components:\n",
    "\n",
    "1. (3 pts) Explain how you constructed and / or preprocessed features to help with prediction, and why.\n",
    "\n",
    "2. (3 pts) Explain what decisions you made using cross-validation, and how well you believe your final model will perform.\n",
    "\n",
    "3. (2 pts) Explain what features you found to be important using the feature importance tools we discussed in class.\n",
    "\n",
    "This write-up, along with your code, will be worth 8 points out of 15. These answers can be short: 1-3 sentences each + supporting tables or plots. \n",
    "\n",
    "## Performance (7 pts)\n",
    "The remainder of your grade will be based on your predictive accuracy, as measured in terms of $R^2$. You will recieve one point for each percentage point of test $R^2$ you achieve over 15%, rounded down, up to a maximum of 7 -- So if your test $R^2$ is 21.9% you will recieve 6 points. To recieve full credit, you will need to achieve an $R^2$ of at least 22% on the test set.\n",
    "\n",
    "In addition to this, there will be __5 points of extra credit__ available to each of the top 5 most accurate models across the whole in the class! You may use any method of your choice, even those that we have not covered, but be sure to explain it in your write-up. Also, to keep things well-scoped, __you may not pull in any datasets__ other than the one we are loading for you in the notebook (although this is a really good idea in practice!)\n",
    "\n",
    "## Submission\n",
    "You will need to submit two files: \n",
    "\n",
    "1.  Your predictions, in `.csv` format, which must have two columns: `id` and `prediction`\n",
    "2.  Your code and write up, which should be provided together as an `.ipynb` notebook.\n",
    "\n",
    "The provided notebook will get you started with loading data, and provide some checks to help you make sure your submission has the correct format. You can download `y_train.parquet` from canvas."
   ]
  },
  {
   "cell_type": "code",
   "execution_count": 3,
   "id": "c28bbadf-9d34-4478-af2a-4a0767bb46e9",
   "metadata": {
    "collapsed": false
   },
   "outputs": [],
   "source": [
    "import pandas as pd\n",
    "import numpy as np\n",
    "\n",
    "def basic_preprocess(df):\n",
    "    df[\"price\"] = df[\"price\"].str.replace(\"$\", \"\").str.replace(\",\", \"\").astype(float)\n",
    "    df = df.dropna(subset=[\"price\"])\n",
    "    return df\n",
    "\n",
    "x_df = basic_preprocess(\n",
    "    pd.read_csv(\n",
    "        \"https://data.insideairbnb.com/united-states/ca/los-angeles/2024-09-04/data/listings.csv.gz\"\n",
    "    )\n",
    ")\n",
    "\n",
    "# Grab this from canvas and save it in this directory\n",
    "y_df = pd.read_parquet(\"y_train.parquet\")\n",
    "\n",
    "train_df = x_df.merge(y_df, on=\"id\")\n",
    "\n",
    "outer = x_df.merge(y_df, how='outer', indicator=True)\n",
    "test_df = outer[(outer._merge=='left_only')].drop('_merge', axis=1)\n"
   ]
  },
  {
   "cell_type": "code",
   "execution_count": 7,
   "id": "79869163",
   "metadata": {},
   "outputs": [
    {
     "name": "stdout",
     "output_type": "stream",
     "text": [
      "Listings Data:\n",
      "                    id                                       listing_url  \\\n",
      "0   670339032744709144   https://www.airbnb.com/rooms/670339032744709144   \n",
      "1             37014494             https://www.airbnb.com/rooms/37014494   \n",
      "2  1024835174766068422  https://www.airbnb.com/rooms/1024835174766068422   \n",
      "3   850744632375448560   https://www.airbnb.com/rooms/850744632375448560   \n",
      "4   953950676345326970   https://www.airbnb.com/rooms/953950676345326970   \n",
      "\n",
      "        scrape_id last_scraped           source  \\\n",
      "0  20240904164210   2024-09-05      city scrape   \n",
      "1  20240904164210   2024-09-05  previous scrape   \n",
      "2  20240904164210   2024-09-05      city scrape   \n",
      "3  20240904164210   2024-09-04      city scrape   \n",
      "4  20240904164210   2024-09-05      city scrape   \n",
      "\n",
      "                                                name  \\\n",
      "0     Westwood lovely three bedrooms three bathrooms   \n",
      "1      Spanish style lower duplex near Beverly Hills   \n",
      "2                        Charming Beverly Hills Home   \n",
      "3                   Tianpu's warm room with bathroom   \n",
      "4  Santa Monica apt, free parking, steps to the b...   \n",
      "\n",
      "                                         description neighborhood_overview  \\\n",
      "0  The whole group will enjoy easy access to ever...                   NaN   \n",
      "1                                                NaN                   NaN   \n",
      "2  Charming, renovated home in the Beverly Hills ...                   NaN   \n",
      "3           Relax in this unique and serene retreat.                   NaN   \n",
      "4  Welcome to our stunning apartment nestled in t...                   NaN   \n",
      "\n",
      "                                         picture_url    host_id  ...  \\\n",
      "0  https://a0.muscache.com/pictures/miso/Hosting-...    4780152  ...   \n",
      "1  https://a0.muscache.com/pictures/65db39d1-c503...  278288178  ...   \n",
      "2  https://a0.muscache.com/pictures/miso/Hosting-...  513813179  ...   \n",
      "3  https://a0.muscache.com/pictures/miso/Hosting-...  432956623  ...   \n",
      "4  https://a0.muscache.com/pictures/3853334b-4562...  528669205  ...   \n",
      "\n",
      "  review_scores_communication review_scores_location review_scores_value  \\\n",
      "0                         NaN                    NaN                 NaN   \n",
      "1                         NaN                    NaN                 NaN   \n",
      "2                         NaN                    NaN                 NaN   \n",
      "3                         5.0                   5.00                3.00   \n",
      "4                         5.0                   4.73                4.77   \n",
      "\n",
      "  license instant_bookable calculated_host_listings_count  \\\n",
      "0     NaN                f                             61   \n",
      "1     NaN                f                              1   \n",
      "2     NaN                f                              4   \n",
      "3     NaN                f                              4   \n",
      "4  Exempt                t                              3   \n",
      "\n",
      "  calculated_host_listings_count_entire_homes  \\\n",
      "0                                           4   \n",
      "1                                           1   \n",
      "2                                           4   \n",
      "3                                           1   \n",
      "4                                           3   \n",
      "\n",
      "  calculated_host_listings_count_private_rooms  \\\n",
      "0                                           57   \n",
      "1                                            0   \n",
      "2                                            0   \n",
      "3                                            3   \n",
      "4                                            0   \n",
      "\n",
      "  calculated_host_listings_count_shared_rooms reviews_per_month  \n",
      "0                                           0               NaN  \n",
      "1                                           0               NaN  \n",
      "2                                           0               NaN  \n",
      "3                                           0              0.06  \n",
      "4                                           0              3.41  \n",
      "\n",
      "[5 rows x 75 columns]\n",
      "\n",
      "Target Data:\n",
      "                    id  days_booked\n",
      "0             38045411            0\n",
      "1   976269998358038273           18\n",
      "2  1224752567418481636            0\n",
      "3  1027902058690487046           11\n",
      "4             44537027           20\n"
     ]
    }
   ],
   "source": [
    "import pandas as pd\n",
    "\n",
    "listings_path = \"path_to_listings.csv\"  \n",
    "y_train_path = \"path_to_y_train.parquet\"\n",
    "\n",
    "listings = pd.read_csv(\"/Users/vikrammaniktala/Downloads/listings.csv\")\n",
    "y_train = pd.read_parquet(\"/Users/vikrammaniktala/Downloads/y_train.parquet\")\n",
    "\n",
    "print(\"Listings Data:\")\n",
    "print(listings.head())\n",
    "print(\"\\nTarget Data:\")\n",
    "print(y_train.head())"
   ]
  },
  {
   "cell_type": "code",
   "execution_count": 8,
   "id": "e2d15abf",
   "metadata": {},
   "outputs": [
    {
     "name": "stdout",
     "output_type": "stream",
     "text": [
      "Merged Data Shape: (3729, 76)\n",
      "                    id                                       listing_url  \\\n",
      "0  1158417037056953812  https://www.airbnb.com/rooms/1158417037056953812   \n",
      "1             53405110             https://www.airbnb.com/rooms/53405110   \n",
      "2  1099697666994383724  https://www.airbnb.com/rooms/1099697666994383724   \n",
      "3  1039777404032438158  https://www.airbnb.com/rooms/1039777404032438158   \n",
      "4             53633927             https://www.airbnb.com/rooms/53633927   \n",
      "\n",
      "        scrape_id last_scraped       source  \\\n",
      "0  20240904164210   2024-09-05  city scrape   \n",
      "1  20240904164210   2024-09-05  city scrape   \n",
      "2  20240904164210   2024-09-05  city scrape   \n",
      "3  20240904164210   2024-09-05  city scrape   \n",
      "4  20240904164210   2024-09-05  city scrape   \n",
      "\n",
      "                                              name  \\\n",
      "0                        Lovely High Rise in Ktown   \n",
      "1                                    Downtown Loft   \n",
      "2  Chic Apartment in the Heart of Beverly Hills #8   \n",
      "3     Blueground | NoHo, walk to restaurants & art   \n",
      "4     Venice Flower Cottage: Ideal WFH + dry sauna   \n",
      "\n",
      "                                         description  \\\n",
      "0  You'll have a great time at this comfortable p...   \n",
      "1                                                NaN   \n",
      "2  Welcome to our beautifully appointed apartment...   \n",
      "3  Discover the best of Los Angeles, with this th...   \n",
      "4  Welcome to the Flower Cottage Venice - your ve...   \n",
      "\n",
      "                               neighborhood_overview  \\\n",
      "0                                                NaN   \n",
      "1                                                NaN   \n",
      "2                                                NaN   \n",
      "3  This furnished apartment is located in North H...   \n",
      "4  Venice is an absolute dreamland. From the gorg...   \n",
      "\n",
      "                                         picture_url    host_id  ...  \\\n",
      "0  https://a0.muscache.com/pictures/miso/Hosting-...  485962662  ...   \n",
      "1  https://a0.muscache.com/pictures/f0b186c4-2a75...  416339920  ...   \n",
      "2  https://a0.muscache.com/pictures/miso/Hosting-...  367097591  ...   \n",
      "3  https://a0.muscache.com/pictures/prohost-api/H...  107434423  ...   \n",
      "4  https://a0.muscache.com/pictures/miso/Hosting-...  265269171  ...   \n",
      "\n",
      "  review_scores_location review_scores_value license instant_bookable  \\\n",
      "0                    NaN                 NaN     NaN                f   \n",
      "1                    NaN                 NaN     NaN                f   \n",
      "2                   4.83                4.67     NaN                t   \n",
      "3                    NaN                 NaN     NaN                f   \n",
      "4                   4.86                4.86     NaN                t   \n",
      "\n",
      "  calculated_host_listings_count calculated_host_listings_count_entire_homes  \\\n",
      "0                              2                                           2   \n",
      "1                              4                                           2   \n",
      "2                              4                                           4   \n",
      "3                            569                                         569   \n",
      "4                              2                                           2   \n",
      "\n",
      "  calculated_host_listings_count_private_rooms  \\\n",
      "0                                            0   \n",
      "1                                            2   \n",
      "2                                            0   \n",
      "3                                            0   \n",
      "4                                            0   \n",
      "\n",
      "  calculated_host_listings_count_shared_rooms reviews_per_month days_booked  \n",
      "0                                           0               NaN           0  \n",
      "1                                           0               NaN           0  \n",
      "2                                           0              1.14          24  \n",
      "3                                           0               NaN          28  \n",
      "4                                           0              0.23          30  \n",
      "\n",
      "[5 rows x 76 columns]\n"
     ]
    }
   ],
   "source": [
    "# Merging listings and target data on 'id'\n",
    "merged_data = listings.merge(y_train, on=\"id\", how=\"inner\")\n",
    "\n",
    "# Checking the shape for preview\n",
    "print(\"Merged Data Shape:\", merged_data.shape)\n",
    "print(merged_data.head())"
   ]
  },
  {
   "cell_type": "code",
   "execution_count": 9,
   "id": "9dcf0726",
   "metadata": {},
   "outputs": [],
   "source": [
    "# Dropping irrelevant columns\n",
    "irrelevant_cols = ['listing_url', 'scrape_id', 'last_scraped', 'name', 'description', 'picture_url', 'host_id']\n",
    "data = merged_data.drop(columns=irrelevant_cols)\n",
    "\n",
    "# Filling NA values\n",
    "data.fillna({'reviews_per_month': 0}, inplace=True)  # Example: Replace NaN with 0 for `reviews_per_month`\n",
    "\n",
    "# Encoding categorical variables\n",
    "categorical_cols = data.select_dtypes(include=['object']).columns\n",
    "data = pd.get_dummies(data, columns=categorical_cols, drop_first=True)\n",
    "\n",
    "# Separating features and target\n",
    "X = data.drop(columns=['id', 'days_booked'])\n",
    "y = data['days_booked']\n"
   ]
  },
  {
   "cell_type": "code",
   "execution_count": null,
   "id": "c0748298",
   "metadata": {},
   "outputs": [],
   "source": [
    "from sklearn.model_selection import train_test_split\n",
    "\n",
    "# Splitting into training and testing sets\n",
    "X_train, X_test, y_train, y_test = train_test_split(X, y, test_size=0.2, random_state=42)\n",
    "\n",
    "print(\"Training Set Shape:\", X_train.shape)\n",
    "print(\"Test Set Shape:\", X_test.shape)"
   ]
  },
  {
   "cell_type": "code",
   "execution_count": 13,
   "id": "1272ad4e",
   "metadata": {},
   "outputs": [
    {
     "name": "stdout",
     "output_type": "stream",
     "text": [
      "Original Shape: (2983, 23843)\n"
     ]
    },
    {
     "name": "stderr",
     "output_type": "stream",
     "text": [
      "/Users/vikrammaniktala/anaconda3/lib/python3.11/site-packages/sklearn/impute/_base.py:555: UserWarning: Skipping features without any observed values: ['calendar_updated']. At least one non-missing value is needed for imputation with strategy='median'.\n",
      "  warnings.warn(\n"
     ]
    },
    {
     "name": "stdout",
     "output_type": "stream",
     "text": [
      "After Imputation Shape: (2983, 23842)\n",
      "Columns with all missing values: Index(['calendar_updated'], dtype='object')\n"
     ]
    }
   ],
   "source": [
    "# Checking the shape before and after imputation\n",
    "print(\"Original Shape:\", X_train.shape)\n",
    "print(\"After Imputation Shape:\", imputer.fit_transform(X_train).shape)\n",
    "\n",
    "# Checking for columns with all missing values\n",
    "missing_columns = X_train.columns[X_train.isnull().all()]\n",
    "print(\"Columns with all missing values:\", missing_columns)"
   ]
  },
  {
   "cell_type": "code",
   "execution_count": 14,
   "id": "2b09dc9d",
   "metadata": {},
   "outputs": [
    {
     "name": "stdout",
     "output_type": "stream",
     "text": [
      "Final Shape of X_train: (2983, 23842)\n",
      "Final Shape of X_test: (746, 23842)\n"
     ]
    }
   ],
   "source": [
    "columns_to_drop = ['calendar_updated']\n",
    "X_train = X_train.drop(columns=columns_to_drop)\n",
    "X_test = X_test.drop(columns=columns_to_drop)\n",
    "\n",
    "# Reapplying imputation\n",
    "X_train = pd.DataFrame(imputer.fit_transform(X_train), columns=X_train.columns)\n",
    "X_test = pd.DataFrame(imputer.transform(X_test), columns=X_test.columns)\n",
    "\n",
    "# Checking the shape after fixing\n",
    "print(\"Final Shape of X_train:\", X_train.shape)\n",
    "print(\"Final Shape of X_test:\", X_test.shape)"
   ]
  },
  {
   "cell_type": "code",
   "execution_count": 15,
   "id": "8129345f",
   "metadata": {},
   "outputs": [
    {
     "name": "stdout",
     "output_type": "stream",
     "text": [
      "R^2 Score: 0.24507653930260898\n"
     ]
    }
   ],
   "source": [
    "from sklearn.ensemble import RandomForestRegressor\n",
    "from sklearn.metrics import r2_score\n",
    "\n",
    "# Training Random Forest Regressor\n",
    "rf = RandomForestRegressor(random_state=42)\n",
    "rf.fit(X_train, y_train)\n",
    "\n",
    "# Predicting on the test set\n",
    "y_pred = rf.predict(X_test)\n",
    "\n",
    "# Evaluating the model\n",
    "print(\"R^2 Score:\", r2_score(y_test, y_pred))"
   ]
  },
  {
   "cell_type": "code",
   "execution_count": 16,
   "id": "85a8925d",
   "metadata": {},
   "outputs": [
    {
     "name": "stdout",
     "output_type": "stream",
     "text": [
      "Training R^2 Score: 0.8865228278053844\n"
     ]
    }
   ],
   "source": [
    "# Calculating R^2 for the training set\n",
    "y_train_pred = rf.predict(X_train)\n",
    "r2_train = r2_score(y_train, y_train_pred)\n",
    "print(\"Training R^2 Score:\", r2_train)"
   ]
  },
  {
   "cell_type": "code",
   "execution_count": 17,
   "id": "868d20fb",
   "metadata": {},
   "outputs": [
    {
     "data": {
      "image/png": "[encoded data removed]",
      "text/plain": [
       "<Figure size 1000x600 with 1 Axes>"
      ]
     },
     "metadata": {},
     "output_type": "display_data"
    }
   ],
   "source": [
    "import matplotlib.pyplot as plt\n",
    "feature_importances = rf.feature_importances_\n",
    "sorted_idx = feature_importances.argsort()\n",
    "\n",
    "plt.figure(figsize=(10, 6))\n",
    "plt.barh(X_train.columns[sorted_idx][-20:], feature_importances[sorted_idx][-20:])\n",
    "plt.title(\"Top 20 Feature Importances\")\n",
    "plt.show()"
   ]
  },
  {
   "cell_type": "code",
   "execution_count": 27,
   "id": "b7d4874e",
   "metadata": {},
   "outputs": [
    {
     "name": "stdout",
     "output_type": "stream",
     "text": [
      "Filtered Train Shape: (2983, 9)\n",
      "Filtered Test Shape: (746, 9)\n"
     ]
    }
   ],
   "source": [
    "# Defining the threshold importance (I wanted to retain features with importance >= 0.02)')\n",
    "threshold_importance = 0.02\n",
    "\n",
    "# Filtering features based on importance\n",
    "important_features = X_train.columns[rf.feature_importances_ >= threshold_importance]\n",
    "\n",
    "# Reducing the dataset to only the important features\n",
    "X_train_filtered = X_train[important_features]\n",
    "X_test_filtered = X_test[important_features]\n",
    "\n",
    "# Checking the new shape\n",
    "print(\"Filtered Train Shape:\", X_train_filtered.shape)\n",
    "print(\"Filtered Test Shape:\", X_test_filtered.shape)\n"
   ]
  },
  {
   "cell_type": "code",
   "execution_count": 28,
   "id": "e9cf03c1",
   "metadata": {},
   "outputs": [
    {
     "name": "stdout",
     "output_type": "stream",
     "text": [
      "R^2 Score with Filtered Features: 0.17627922928943018\n"
     ]
    }
   ],
   "source": [
    "# Training a new model on the filtered features\n",
    "rf_filtered = RandomForestRegressor(random_state=42, n_jobs=-1)\n",
    "rf_filtered.fit(X_train_filtered, y_train)\n",
    "\n",
    "# Evaluating the model\n",
    "y_pred_filtered = rf_filtered.predict(X_test_filtered)\n",
    "r2_filtered = r2_score(y_test, y_pred_filtered)\n",
    "\n",
    "print(\"R^2 Score with Filtered Features:\", r2_filtered)"
   ]
  },
  {
   "cell_type": "code",
   "execution_count": null,
   "id": "3b0a562e",
   "metadata": {},
   "outputs": [
    {
     "name": "stdout",
     "output_type": "stream",
     "text": [
      "R^2 Score with Lasso: 0.15935898737178888\n"
     ]
    }
   ],
   "source": [
    "from sklearn.linear_model import Lasso\n",
    "from sklearn.preprocessing import StandardScaler\n",
    "from sklearn.metrics import r2_score\n",
    "\n",
    "# Scaling the data\n",
    "scaler = StandardScaler()\n",
    "X_train_scaled = scaler.fit_transform(X_train)\n",
    "X_test_scaled = scaler.transform(X_test)\n",
    "\n",
    "# Using Lasso Regression with a larger alpha and more iterations\n",
    "lasso = Lasso(alpha=1.0, random_state=42, max_iter=10000)\n",
    "lasso.fit(X_train_scaled, y_train)\n",
    "\n",
    "# Predicting and evaluating\n",
    "y_pred_lasso = lasso.predict(X_test_scaled)\n",
    "r2_lasso = r2_score(y_test, y_pred_lasso)\n",
    "\n",
    "print(\"R^2 Score with Lasso:\", r2_lasso)"
   ]
  },
  {
   "cell_type": "code",
   "execution_count": 31,
   "id": "3fed64f1",
   "metadata": {},
   "outputs": [
    {
     "name": "stdout",
     "output_type": "stream",
     "text": [
      "Fitting 3 folds for each of 81 candidates, totalling 243 fits\n",
      "Best Parameters: {'max_depth': 10, 'min_samples_leaf': 4, 'min_samples_split': 10, 'n_estimators': 200}\n"
     ]
    }
   ],
   "source": [
    "from sklearn.model_selection import GridSearchCV\n",
    "\n",
    "param_grid = {\n",
    "    \"n_estimators\": [50, 100, 200],\n",
    "    \"max_depth\": [10, 20, None],\n",
    "    \"min_samples_split\": [2, 5, 10],\n",
    "    \"min_samples_leaf\": [1, 2, 4],\n",
    "}\n",
    "grid_search = GridSearchCV(\n",
    "    RandomForestRegressor(random_state=42, n_jobs=-1),\n",
    "    param_grid,\n",
    "    cv=3,\n",
    "    scoring=\"r2\",\n",
    "    verbose=1,\n",
    ")\n",
    "grid_search.fit(X_train, y_train)\n",
    "\n",
    "# Using the best estimator\n",
    "best_rf = grid_search.best_estimator_\n",
    "print(\"Best Parameters:\", grid_search.best_params_)\n"
   ]
  },
  {
   "cell_type": "code",
   "execution_count": 42,
   "id": "b6bc4d86",
   "metadata": {},
   "outputs": [
    {
     "name": "stdout",
     "output_type": "stream",
     "text": [
      "Best R^2 Score on Test Set: 0.25839145471501557\n"
     ]
    }
   ],
   "source": [
    "y_pred_test = best_rf.predict(X_test)\n",
    "from sklearn.metrics import r2_score\n",
    "r2_test = r2_score(y_test, y_pred_test)\n",
    "print(\"Best R^2 Score on Test Set:\", r2_test)"
   ]
  },
  {
   "cell_type": "code",
   "execution_count": 47,
   "id": "d6a96c91",
   "metadata": {},
   "outputs": [
    {
     "name": "stdout",
     "output_type": "stream",
     "text": [
      "R^2 Score on Training Set: 0.5791019436564933\n"
     ]
    }
   ],
   "source": [
    "train_score = best_rf.score(X_train, y_train)\n",
    "print(\"R^2 Score on Training Set:\", train_score)"
   ]
  },
  {
   "cell_type": "code",
   "execution_count": 35,
   "id": "ad6610d9",
   "metadata": {},
   "outputs": [],
   "source": [
    "y_pred_test = best_rf.predict(X_test)"
   ]
  },
  {
   "cell_type": "code",
   "execution_count": 37,
   "id": "0c2bdc5f",
   "metadata": {},
   "outputs": [
    {
     "name": "stdout",
     "output_type": "stream",
     "text": [
      "                    id                                       listing_url  \\\n",
      "0   670339032744709144   https://www.airbnb.com/rooms/670339032744709144   \n",
      "1  1024835174766068422  https://www.airbnb.com/rooms/1024835174766068422   \n",
      "2   850744632375448560   https://www.airbnb.com/rooms/850744632375448560   \n",
      "3   953950676345326970   https://www.airbnb.com/rooms/953950676345326970   \n",
      "4  1082614257267236225  https://www.airbnb.com/rooms/1082614257267236225   \n",
      "\n",
      "        scrape_id last_scraped       source  \\\n",
      "0  20240904164210   2024-09-05  city scrape   \n",
      "1  20240904164210   2024-09-05  city scrape   \n",
      "2  20240904164210   2024-09-04  city scrape   \n",
      "3  20240904164210   2024-09-05  city scrape   \n",
      "4  20240904164210   2024-09-05  city scrape   \n",
      "\n",
      "                                                name  \\\n",
      "0     Westwood lovely three bedrooms three bathrooms   \n",
      "1                        Charming Beverly Hills Home   \n",
      "2                   Tianpu's warm room with bathroom   \n",
      "3  Santa Monica apt, free parking, steps to the b...   \n",
      "4                     Practical Private Room #1398 A   \n",
      "\n",
      "                                         description neighborhood_overview  \\\n",
      "0  The whole group will enjoy easy access to ever...                   NaN   \n",
      "1  Charming, renovated home in the Beverly Hills ...                   NaN   \n",
      "2           Relax in this unique and serene retreat.                   NaN   \n",
      "3  Welcome to our stunning apartment nestled in t...                   NaN   \n",
      "4  This room comes fully furnished and cannot be ...                   NaN   \n",
      "\n",
      "                                         picture_url    host_id  ...  \\\n",
      "0  https://a0.muscache.com/pictures/miso/Hosting-...    4780152  ...   \n",
      "1  https://a0.muscache.com/pictures/miso/Hosting-...  513813179  ...   \n",
      "2  https://a0.muscache.com/pictures/miso/Hosting-...  432956623  ...   \n",
      "3  https://a0.muscache.com/pictures/3853334b-4562...  528669205  ...   \n",
      "4  https://a0.muscache.com/pictures/prohost-api/H...  557999481  ...   \n",
      "\n",
      "  review_scores_location review_scores_value license instant_bookable  \\\n",
      "0                    NaN                 NaN     NaN                f   \n",
      "1                    NaN                 NaN     NaN                f   \n",
      "2                   5.00                3.00     NaN                f   \n",
      "3                   4.73                4.77  Exempt                t   \n",
      "4                    NaN                 NaN     NaN                f   \n",
      "\n",
      "  calculated_host_listings_count calculated_host_listings_count_entire_homes  \\\n",
      "0                             61                                           4   \n",
      "1                              4                                           4   \n",
      "2                              4                                           1   \n",
      "3                              3                                           3   \n",
      "4                             15                                           0   \n",
      "\n",
      "  calculated_host_listings_count_private_rooms  \\\n",
      "0                                           57   \n",
      "1                                            0   \n",
      "2                                            3   \n",
      "3                                            0   \n",
      "4                                           15   \n",
      "\n",
      "  calculated_host_listings_count_shared_rooms reviews_per_month days_booked  \n",
      "0                                           0               NaN         NaN  \n",
      "1                                           0               NaN         NaN  \n",
      "2                                           0              0.06         NaN  \n",
      "3                                           0              3.41         NaN  \n",
      "4                                           0               NaN         NaN  \n",
      "\n",
      "[5 rows x 76 columns]\n",
      "Index(['id', 'listing_url', 'scrape_id', 'last_scraped', 'source', 'name',\n",
      "       'description', 'neighborhood_overview', 'picture_url', 'host_id',\n",
      "       'host_url', 'host_name', 'host_since', 'host_location', 'host_about',\n",
      "       'host_response_time', 'host_response_rate', 'host_acceptance_rate',\n",
      "       'host_is_superhost', 'host_thumbnail_url', 'host_picture_url',\n",
      "       'host_neighbourhood', 'host_listings_count',\n",
      "       'host_total_listings_count', 'host_verifications',\n",
      "       'host_has_profile_pic', 'host_identity_verified', 'neighbourhood',\n",
      "       'neighbourhood_cleansed', 'neighbourhood_group_cleansed', 'latitude',\n",
      "       'longitude', 'property_type', 'room_type', 'accommodates', 'bathrooms',\n",
      "       'bathrooms_text', 'bedrooms', 'beds', 'amenities', 'price',\n",
      "       'minimum_nights', 'maximum_nights', 'minimum_minimum_nights',\n",
      "       'maximum_minimum_nights', 'minimum_maximum_nights',\n",
      "       'maximum_maximum_nights', 'minimum_nights_avg_ntm',\n",
      "       'maximum_nights_avg_ntm', 'calendar_updated', 'has_availability',\n",
      "       'availability_30', 'availability_60', 'availability_90',\n",
      "       'availability_365', 'calendar_last_scraped', 'number_of_reviews',\n",
      "       'number_of_reviews_ltm', 'number_of_reviews_l30d', 'first_review',\n",
      "       'last_review', 'review_scores_rating', 'review_scores_accuracy',\n",
      "       'review_scores_cleanliness', 'review_scores_checkin',\n",
      "       'review_scores_communication', 'review_scores_location',\n",
      "       'review_scores_value', 'license', 'instant_bookable',\n",
      "       'calculated_host_listings_count',\n",
      "       'calculated_host_listings_count_entire_homes',\n",
      "       'calculated_host_listings_count_private_rooms',\n",
      "       'calculated_host_listings_count_shared_rooms', 'reviews_per_month',\n",
      "       'days_booked'],\n",
      "      dtype='object')\n"
     ]
    }
   ],
   "source": [
    "print(test_df.head())\n",
    "print(test_df.columns)\n"
   ]
  },
  {
   "cell_type": "code",
   "execution_count": 1,
   "id": "67c28f89",
   "metadata": {},
   "outputs": [
    {
     "ename": "NameError",
     "evalue": "name 'best_rf' is not defined",
     "output_type": "error",
     "traceback": [
      "\u001b[0;31m---------------------------------------------------------------------------\u001b[0m",
      "\u001b[0;31mNameError\u001b[0m                                 Traceback (most recent call last)",
      "Cell \u001b[0;32mIn[1], line 1\u001b[0m\n\u001b[0;32m----> 1\u001b[0m train_score \u001b[38;5;241m=\u001b[39m best_rf\u001b[38;5;241m.\u001b[39mscore(X_train, y_train)\n\u001b[1;32m      2\u001b[0m \u001b[38;5;28mprint\u001b[39m(\u001b[38;5;124m\"\u001b[39m\u001b[38;5;124mTrain set R^2 Score: \u001b[39m\u001b[38;5;132;01m{:.2f}\u001b[39;00m\u001b[38;5;124m\"\u001b[39m\u001b[38;5;241m.\u001b[39mformat(train_score))\n\u001b[1;32m      4\u001b[0m \u001b[38;5;66;03m# Predicting the test set results\u001b[39;00m\n",
      "\u001b[0;31mNameError\u001b[0m: name 'best_rf' is not defined"
     ]
    }
   ],
   "source": [
    "train_score = best_rf.score(X_train, y_train)\n",
    "print(\"Train set R^2 Score: {:.2f}\".format(train_score))\n",
    "\n",
    "# Predicting the test set results\n",
    "y_pred_test = best_rf.predict(X_test)\n",
    "\n",
    "# Evaluating the model on the test set\n",
    "from sklearn.metrics import r2_score\n",
    "r2_test = r2_score(y_test, y_pred_test)\n",
    "print(\"Test set R^2 Score: {:.2f}\".format(r2_test))\n",
    "\n",
    "# Predicting for the test data (submission dataset)\n",
    "test_data_imputed = pd.DataFrame(imputer.transform(test_data), columns=test_data.columns)\n",
    "\n",
    "# Make=ing predictions for the submission data\n",
    "predictions = best_rf.predict(test_data_imputed)\n",
    "\n",
    "# Preparing the submission file\n",
    "submission = pd.DataFrame({\n",
    "    'id': test_df['id'],  \n",
    "    'prediction': predictions\n",
    "})\n",
    "submission.to_csv(\"submission.csv\", index=False)\n",
    "print(\"Submission file created as 'submission.csv'\")"
   ]
  },
  {
   "cell_type": "code",
   "execution_count": 2,
   "id": "247d0669",
   "metadata": {},
   "outputs": [
    {
     "ename": "SyntaxError",
     "evalue": "incomplete input (1268011355.py, line 1)",
     "output_type": "error",
     "traceback": [
      "\u001b[0;36m  Cell \u001b[0;32mIn[2], line 1\u001b[0;36m\u001b[0m\n\u001b[0;31m    assert md5(np.sort(submission.csv.id.values).hexdigest() == '87ed95adc911aad0ed9ef119a7a3315d'\u001b[0m\n\u001b[0m                                                                                                  ^\u001b[0m\n\u001b[0;31mSyntaxError\u001b[0m\u001b[0;31m:\u001b[0m incomplete input\n"
     ]
    }
   ],
   "source": [
    "assert md5(np.sort(submission.csv.id.values).hexdigest() == '87ed95adc911aad0ed9ef119a7a3315d'"
   ]
  },
  {
   "cell_type": "markdown",
   "id": "b1ca94aa-9636-44a7-9d87-9ec71cda9ad1",
   "metadata": {
    "collapsed": false
   },
   "source": [
    "## Write Up\n",
    "\n",
    "1. (3 pts) Explain how you constructed and / or preprocessed features to help with prediction, and why.\n",
    "\n",
    "I dropped irrelevant columns such as listing_url, name, description, and several others that were unlikely to contribute to the prediction were removed to reduce noise in the data. Missing values in features such as reviews_per_month were imputed with a default value of 0, assuming that listings with missing reviews were not actively reviewed. Columns like calendar_updated were removed entirely as they had all missing values. I also converted categorical variables such as property_type and room_type into numerical representations using one-hot encoding to make them compatible with machine learning models.\n",
    "\n",
    "2. (3 pts) Explain what decisions you made using cross-validation, and how well you believe your final model will perform.\n",
    "\n",
    "I initially used a default Random Forest model (r squared value of approx. 0.245), which produced a baseline performance. After understanding its feature importance capabilities, I used this model to identify key predictors.\n",
    "\n",
    "Based on feature importance, I filtered features with low contributions (visualization of the most important features attached in the notebook). However, this resulted in a drop in the R² score, indicating that the removed features still had minor but significant contributions to the model. Therefore, I reverted to using a larger number of features.\n",
    "\n",
    "I also experimented with using Lasso Regression, mostly for its ability to perform feature selection by penalizing less important features. However, its performance was slightly lower than the Random Forest model (r squared value of approx. 0.16) due to the nature of the dataset, which likely required a more flexible approach. Therefore, I reverted to the initial Random Forest approach, implementing cross-validation and hyperparameterization. Hyperparameterization helped optimize model performance, as evidenced by an enhanced r squared value (approx. 0.258)\n",
    "\n",
    "\n",
    "\n",
    "3. (2 pts) Explain what features you found to be important using the feature importance tools we discussed in class.\n",
    "\n",
    "Using the Random Forest feature importance tool, I identified the top predictors for days_booked:\n",
    "\n",
    "reviews_per_month: The most significant feature, indicating that highly reviewed listings are likely to be more frequently booked.\n",
    "\n",
    "availability_60 and availability_90: Represent current booking availability over the next 60 and 90 days, highlighting short-term demand.\n",
    "\n",
    "latitude and longitude: Geographic location plays a critical role in bookings, as proximity to desirable areas likely increases bookings.\n",
    "\n"
   ]
  },
  {
   "cell_type": "markdown",
   "id": "f472cd24",
   "metadata": {},
   "source": []
  }
 ],
 "metadata": {
  "kernelspec": {
   "display_name": "base",
   "language": "python",
   "name": "python3"
  },
  "language_info": {
   "codemirror_mode": {
    "name": "ipython",
    "version": 3
   },
   "file_extension": ".py",
   "mimetype": "text/x-python",
   "name": "python",
   "nbconvert_exporter": "python",
   "pygments_lexer": "ipython3",
   "version": "3.11.5"
  },
  "name": "Untitled.ipynb"
 },
 "nbformat": 4,
 "nbformat_minor": 5
}
